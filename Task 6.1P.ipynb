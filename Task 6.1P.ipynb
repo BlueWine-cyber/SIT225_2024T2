{
 "cells": [
  {
   "cell_type": "code",
   "execution_count": 3,
   "id": "b0720aa3",
   "metadata": {},
   "outputs": [
    {
     "name": "stdout",
     "output_type": "stream",
     "text": [
      "Requirement already satisfied: plotly in c:\\users\\tymbe\\anaconda3\\lib\\site-packages (5.9.0)\n",
      "Requirement already satisfied: dash in c:\\users\\tymbe\\anaconda3\\lib\\site-packages (2.17.1)\n",
      "Requirement already satisfied: tenacity>=6.2.0 in c:\\users\\tymbe\\anaconda3\\lib\\site-packages (from plotly) (8.2.2)\n",
      "Requirement already satisfied: Flask<3.1,>=1.0.4 in c:\\users\\tymbe\\anaconda3\\lib\\site-packages (from dash) (2.2.5)\n",
      "Requirement already satisfied: Werkzeug<3.1 in c:\\users\\tymbe\\anaconda3\\lib\\site-packages (from dash) (2.2.3)\n",
      "Requirement already satisfied: dash-html-components==2.0.0 in c:\\users\\tymbe\\anaconda3\\lib\\site-packages (from dash) (2.0.0)\n",
      "Requirement already satisfied: dash-core-components==2.0.0 in c:\\users\\tymbe\\anaconda3\\lib\\site-packages (from dash) (2.0.0)\n",
      "Requirement already satisfied: dash-table==5.0.0 in c:\\users\\tymbe\\anaconda3\\lib\\site-packages (from dash) (5.0.0)\n",
      "Requirement already satisfied: importlib-metadata in c:\\users\\tymbe\\anaconda3\\lib\\site-packages (from dash) (7.0.1)\n",
      "Requirement already satisfied: typing-extensions>=4.1.1 in c:\\users\\tymbe\\anaconda3\\lib\\site-packages (from dash) (4.9.0)\n",
      "Requirement already satisfied: requests in c:\\users\\tymbe\\anaconda3\\lib\\site-packages (from dash) (2.31.0)\n",
      "Requirement already satisfied: retrying in c:\\users\\tymbe\\anaconda3\\lib\\site-packages (from dash) (1.3.4)\n",
      "Requirement already satisfied: nest-asyncio in c:\\users\\tymbe\\anaconda3\\lib\\site-packages (from dash) (1.6.0)\n",
      "Requirement already satisfied: setuptools in c:\\users\\tymbe\\anaconda3\\lib\\site-packages (from dash) (68.2.2)\n",
      "Requirement already satisfied: Jinja2>=3.0 in c:\\users\\tymbe\\anaconda3\\lib\\site-packages (from Flask<3.1,>=1.0.4->dash) (3.1.3)\n",
      "Requirement already satisfied: itsdangerous>=2.0 in c:\\users\\tymbe\\anaconda3\\lib\\site-packages (from Flask<3.1,>=1.0.4->dash) (2.0.1)\n",
      "Requirement already satisfied: click>=8.0 in c:\\users\\tymbe\\anaconda3\\lib\\site-packages (from Flask<3.1,>=1.0.4->dash) (8.1.7)\n",
      "Requirement already satisfied: MarkupSafe>=2.1.1 in c:\\users\\tymbe\\anaconda3\\lib\\site-packages (from Werkzeug<3.1->dash) (2.1.3)\n",
      "Requirement already satisfied: zipp>=0.5 in c:\\users\\tymbe\\anaconda3\\lib\\site-packages (from importlib-metadata->dash) (3.17.0)\n",
      "Requirement already satisfied: charset-normalizer<4,>=2 in c:\\users\\tymbe\\anaconda3\\lib\\site-packages (from requests->dash) (2.0.4)\n",
      "Requirement already satisfied: idna<4,>=2.5 in c:\\users\\tymbe\\anaconda3\\lib\\site-packages (from requests->dash) (3.4)\n",
      "Requirement already satisfied: urllib3<3,>=1.21.1 in c:\\users\\tymbe\\anaconda3\\lib\\site-packages (from requests->dash) (2.0.7)\n",
      "Requirement already satisfied: certifi>=2017.4.17 in c:\\users\\tymbe\\anaconda3\\lib\\site-packages (from requests->dash) (2024.2.2)\n",
      "Requirement already satisfied: six>=1.7.0 in c:\\users\\tymbe\\anaconda3\\lib\\site-packages (from retrying->dash) (1.16.0)\n",
      "Requirement already satisfied: colorama in c:\\users\\tymbe\\anaconda3\\lib\\site-packages (from click>=8.0->Flask<3.1,>=1.0.4->dash) (0.4.6)\n",
      "Requirement already satisfied: plotly in c:\\users\\tymbe\\anaconda3\\lib\\site-packages (5.9.0)\n",
      "Requirement already satisfied: tenacity>=6.2.0 in c:\\users\\tymbe\\anaconda3\\lib\\site-packages (from plotly) (8.2.2)\n"
     ]
    }
   ],
   "source": [
    "# install plotly and dash, if not yet already\n",
    "! pip install plotly dash\n",
    "\n",
    "import plotly, dash"
   ]
  },
  {
   "cell_type": "code",
   "execution_count": 14,
   "id": "757ec83f",
   "metadata": {},
   "outputs": [
    {
     "name": "stdout",
     "output_type": "stream",
     "text": [
      "Dash app running on http://127.0.0.1:8050/\n"
     ]
    },
    {
     "data": {
      "application/javascript": [
       "window.open('http://127.0.0.1:8050/')"
      ],
      "text/plain": [
       "<IPython.core.display.Javascript object>"
      ]
     },
     "metadata": {},
     "output_type": "display_data"
    }
   ],
   "source": [
    "from dash import Dash, dcc, html\n",
    "from dash.dependencies import Input, Output\n",
    "import plotly.graph_objs as go\n",
    "import pandas as pd\n",
    "\n",
    "data = pd.read_csv('Task5_1P.csv')\n",
    "\n",
    "app = Dash()\n",
    "\n",
    "app.layout = html.Div([\n",
    "    dcc.Dropdown(\n",
    "        id='axis-selection',\n",
    "        options=[\n",
    "            {'label': 'X', 'value': 'x'},\n",
    "            {'label': 'Y', 'value': 'y'},\n",
    "            {'label': 'Z', 'value': 'z'},\n",
    "            {'label': 'All (X, Y, Z)', 'value': 'all'}\n",
    "        ],\n",
    "        value='x'\n",
    "    ),\n",
    "    dcc.Dropdown(\n",
    "        id='graph-type',\n",
    "        options=[\n",
    "            {'label': 'Scatter Plot', 'value': 'scatter'},\n",
    "            {'label': 'Line Chart', 'value': 'line'}\n",
    "        ],\n",
    "        value='scatter'\n",
    "    ),\n",
    "    dcc.Input(id='num-samples', type='number', value=100),\n",
    "    html.Button('Previous', id='prev-button', n_clicks=0),\n",
    "    html.Button('Next', id='next-button', n_clicks=0),\n",
    "    dcc.Graph(id='gyroscope-graph'),\n",
    "    html.Div(id='summary-table')\n",
    "])\n",
    "\n",
    "@app.callback(\n",
    "    Output('gyroscope-graph', 'figure'),\n",
    "    Output('summary-table', 'children'),\n",
    "    Input('axis-selection', 'value'),\n",
    "    Input('graph-type', 'value'),\n",
    "    Input('num-samples', 'value'),\n",
    "    Input('prev-button', 'n_clicks'),\n",
    "    Input('next-button', 'n_clicks')\n",
    ")\n",
    "\n",
    "def update_graph(axis_selection, graph_type, num_samples, prev_clicks, next_clicks):\n",
    "    max_samples = len(data)\n",
    "    start_index = max(0, (prev_clicks - next_clicks) * num_samples)\n",
    "    end_index = min(start_index + num_samples, max_samples)\n",
    "    filtered_data = data.iloc[start_index:end_index]\n",
    "\n",
    "    # Create the graph\n",
    "    fig = go.Figure()\n",
    "    if axis_selection == 'all':\n",
    "        if graph_type == 'scatter':\n",
    "            mode = 'markers'\n",
    "        elif graph_type == 'line':\n",
    "            mode = 'lines'\n",
    "\n",
    "        fig.add_trace(go.Scatter(x=data.index, y=data['x'], mode=mode, name='X'))\n",
    "        fig.add_trace(go.Scatter(x=data.index, y=data['y'], mode=mode, name='Y'))\n",
    "        fig.add_trace(go.Scatter(x=data.index, y=data['z'], mode=mode, name='Z'))\n",
    "    else:\n",
    "        if graph_type == 'scatter':\n",
    "            fig.add_trace(go.Scatter(x=filtered_data.index, y=filtered_data[axis_selection], mode='markers'))\n",
    "        elif graph_type == 'line':\n",
    "            fig.add_trace(go.Scatter(x=filtered_data.index, y=filtered_data[axis_selection], mode='lines'))\n",
    "\n",
    "    # Create the statistical summary table\n",
    "    selected_data = filtered_data[[axis_selection]] if axis_selection != 'all' else filtered_data[['x', 'y', 'z']]\n",
    "    summary = selected_data.describe().reset_index()\n",
    "    summary_table = html.Table([\n",
    "        html.Tr([html.Th(col) for col in summary.columns])\n",
    "    ] + [\n",
    "        html.Tr([html.Td(val) for val in row]) for row in summary.itertuples(index=False)\n",
    "    ])\n",
    "\n",
    "    return fig, summary_table\n",
    "\n",
    "if __name__ == '__main__':\n",
    "    app.run(debug=True, jupyter_mode = \"tab\")"
   ]
  }
 ],
 "metadata": {
  "kernelspec": {
   "display_name": "Python 3 (ipykernel)",
   "language": "python",
   "name": "python3"
  },
  "language_info": {
   "codemirror_mode": {
    "name": "ipython",
    "version": 3
   },
   "file_extension": ".py",
   "mimetype": "text/x-python",
   "name": "python",
   "nbconvert_exporter": "python",
   "pygments_lexer": "ipython3",
   "version": "3.11.7"
  }
 },
 "nbformat": 4,
 "nbformat_minor": 5
}
